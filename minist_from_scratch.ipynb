{
 "cells": [
  {
   "cell_type": "markdown",
   "metadata": {},
   "source": [
    "### We will build simple fully connected network with one hidden layer from scratch using only numpy. It includesincludes feed forward and back probagation pass, and Adam optimization step."
   ]
  },
  {
   "cell_type": "code",
   "execution_count": 16,
   "metadata": {
    "scrolled": true
   },
   "outputs": [
    {
     "name": "stdout",
     "output_type": "stream",
     "text": [
      "Num training example  1437\n",
      "Number [[4]]\n"
     ]
    },
    {
     "data": {
      "image/png": "[encoded data removed]",
      "text/plain": [
       "<Figure size 504x504 with 1 Axes>"
      ]
     },
     "metadata": {},
     "output_type": "display_data"
    }
   ],
   "source": [
    "import numpy as np\n",
    "\n",
    "import sklearn\n",
    "from sklearn import *\n",
    "from sklearn.preprocessing import StandardScaler\n",
    "from sklearn.model_selection import train_test_split\n",
    "import matplotlib.pyplot as plt\n",
    "\n",
    "# load toy dataset MNIST using sklearn\n",
    "X,y = sklearn.datasets.load_digits(return_X_y=True)\n",
    "scaler = StandardScaler()\n",
    "X = scaler.fit_transform(X)\n",
    "y = y.reshape(y.shape[0],1)\n",
    "X_train, X_test, y_train, y_test = train_test_split(X, y, test_size=0.2, random_state=42)\n",
    "print(\"Num training example \", len(X_train))\n",
    "\n",
    "idx = np.random.randint(0,10,1)\n",
    "plt.matshow(X[idx,:].reshape(8,8))\n",
    "print(\"Number\", y[idx])"
   ]
  },
  {
   "cell_type": "code",
   "execution_count": 21,
   "metadata": {
    "scrolled": true
   },
   "outputs": [
    {
     "name": "stdout",
     "output_type": "stream",
     "text": [
      "iter:  999  loss:  0.33404358059328143\n",
      "accuracy: 0.9436325678496869\n",
      "iter:  1999  loss:  0.149410105214433\n",
      "accuracy: 0.9714683368128044\n",
      "iter:  2999  loss:  0.08105248198508481\n",
      "accuracy: 0.9874739039665971\n",
      "iter:  3999  loss:  0.044964365986895086\n",
      "accuracy: 0.9951287404314544\n",
      "iter:  4999  loss:  0.024713870713465\n",
      "accuracy: 0.9986082115518441\n",
      "iter:  5999  loss:  0.013421465240428903\n",
      "accuracy: 1.0\n",
      "iter:  6999  loss:  0.00750418257301898\n",
      "accuracy: 1.0\n",
      "iter:  7999  loss:  0.004430008779468833\n",
      "accuracy: 1.0\n",
      "iter:  8999  loss:  0.002802116022138718\n",
      "accuracy: 1.0\n",
      "iter:  9999  loss:  0.001962378100643207\n",
      "accuracy: 1.0\n"
     ]
    }
   ],
   "source": [
    "# hyper parameters\n",
    "num_iter = 1+10000\n",
    "learning_rate = 1e-4\n",
    "beta = 0.9\n",
    "beta2 = 0.999\n",
    "epsilon = 1e-8\n",
    "reg_lambda =1e-4\n",
    "\n",
    "# init\n",
    "X = X_train\n",
    "y = y_train\n",
    "m = X.shape[0] \n",
    "n = X.shape[1] # node in input layer\n",
    "n1 = 20 # node in hidden layer\n",
    "nclass = len(np.unique(y)) # node in output layer\n",
    "\n",
    "# convert y to 1 hot vector\n",
    "Y = np.zeros((m,nclass))\n",
    "for i in range(m):\n",
    "    Y[i,y[i]] = 1\n",
    "    \n",
    "np.random.seed(42)\n",
    "\n",
    "W1 = np.random.randn(n,n1)*0.1\n",
    "b1 = np.random.randn(1)\n",
    "VW1 = Vb1 = SW1 = Sb1 = 0\n",
    "\n",
    "W2 = np.random.randn(n1,nclass)*0.1\n",
    "b2 = np.random.randn(1)\n",
    "VW2 = Vb2 = SW2 = Sb2 = 0\n",
    "\n",
    "# TRAINING\n",
    "for i in range(1,num_iter):\n",
    "    # FORWARD\n",
    "    Z1 = X.dot(W1) + b1 # m,nclass\n",
    "    \n",
    "    # relu\n",
    "    A1 = np.maximum(0,Z1)\n",
    "    \n",
    "    Z2 = A1.dot(W2) + b2\n",
    "    \n",
    "    # softmax\n",
    "    t_sum = np.exp(Z2).sum(1).reshape(-1,1)\n",
    "    A2 = np.exp(Z2)/t_sum\n",
    "\n",
    "    # categorical cross entropy cost + regulization term (l2)\n",
    "    j = (-Y*np.log(A2)).sum()/m + reg_lambda*((W1**2).sum()+(W2**2).sum())/m\n",
    "    debug(f'Z2 {Z2.shape} A2 {A2.shape} W2 {W2.shape}')\n",
    "    \n",
    "    if i % 1000 == 999:\n",
    "        print('iter: ',i,' loss: ', j)\n",
    "        print(f'accuracy: {np.mean(np.argmax(A2,axis=1).reshape(-1,1)==y)}')\n",
    "    \n",
    "    # BACKWARD\n",
    "    # derivative respect to j\n",
    "    dZ2 = A2 - Y\n",
    "    dW2 = A1.transpose().dot(dZ2)/m + reg_lambda*W2\n",
    "    db2 = dZ2.sum()/m\n",
    "    debug(f'dZ2 {dZ2.shape} dW2 {dW2.shape}')\n",
    "    \n",
    "    dZ1 = dZ2.dot(W2.transpose())*(Z1>0)\n",
    "    dW1 = X.transpose().dot(dZ1)/m + reg_lambda*W1\n",
    "    db1 = dZ1.sum()/m\n",
    "    \n",
    "    # Optimization using Adam\n",
    "    # momentum\n",
    "    VW1 = beta*VW1 + (1-beta)*dW1\n",
    "    Vb1 = beta*Vb1 + (1-beta)*db1\n",
    "    # rmsprop\n",
    "    SW1 = beta2*SW1 + (1-beta2)*dW1**2\n",
    "    Sb1 = beta2*Sb1 + (1-beta2)*db1**2\n",
    "    # update weight \n",
    "    W1 -= learning_rate*VW1/(np.sqrt(SW1)+epsilon)\n",
    "    b1 -= learning_rate*Vb1/(np.sqrt(Sb1)+epsilon)\n",
    "    \n",
    "      # momentum\n",
    "    VW2 = beta*VW2 + (1-beta)*dW2\n",
    "    Vb2 = beta*Vb2 + (1-beta)*db2\n",
    "    # rmsprop\n",
    "    SW2 = beta2*SW2 + (1-beta2)*dW2**2\n",
    "    Sb2 = beta2*Sb2 + (1-beta2)*db2**2\n",
    "    # update weight \n",
    "    W2 -= learning_rate*VW2/(np.sqrt(SW2)+epsilon)\n",
    "    b2 -= learning_rate*Vb2/(np.sqrt(Sb2)+epsilon)\n",
    "\n"
   ]
  },
  {
   "cell_type": "markdown",
   "metadata": {},
   "source": [
    "Training accuracy reach 100% under 1000 training epoch"
   ]
  },
  {
   "cell_type": "code",
   "execution_count": 23,
   "metadata": {},
   "outputs": [
    {
     "name": "stdout",
     "output_type": "stream",
     "text": [
      "Num test example  360\n",
      "              precision    recall  f1-score   support\n",
      "\n",
      "           0       1.00      1.00      1.00        33\n",
      "           1       1.00      1.00      1.00        28\n",
      "           2       1.00      0.97      0.98        33\n",
      "           3       0.94      0.97      0.96        34\n",
      "           4       1.00      1.00      1.00        46\n",
      "           5       0.94      0.94      0.94        47\n",
      "           6       0.97      0.97      0.97        35\n",
      "           7       1.00      0.97      0.99        34\n",
      "           8       0.97      0.97      0.97        30\n",
      "           9       0.93      0.95      0.94        40\n",
      "\n",
      "    accuracy                           0.97       360\n",
      "   macro avg       0.97      0.97      0.97       360\n",
      "weighted avg       0.97      0.97      0.97       360\n",
      "\n"
     ]
    }
   ],
   "source": [
    "# INFERENCE\n",
    "X = X_test\n",
    "y = y_test\n",
    "\n",
    "Z1 = X.dot(W1) + b1 # m,nclass\n",
    "\n",
    "# relu\n",
    "A1 = np.maximum(0,Z1)\n",
    "\n",
    "Z2 = A1.dot(W2) + b2\n",
    "\n",
    "# softmax\n",
    "t_sum = np.exp(Z2).sum(1).reshape(-1,1)\n",
    "A2 = np.exp(Z2)/t_sum\n",
    "\n",
    "y_pred = np.argmax(A2,1).reshape(-1,1)\n",
    "print(\"Num test example \", len(X_test))\n",
    "print(sklearn.metrics.classification_report(y,y_pred))"
   ]
  },
  {
   "cell_type": "markdown",
   "metadata": {},
   "source": [
    "We got 97% accuracy on test set. For our 1 layer fully connected network, the result is not too shaby!"
   ]
  }
 ],
 "metadata": {
  "kernelspec": {
   "display_name": "Python 3",
   "language": "python",
   "name": "python3"
  },
  "language_info": {
   "codemirror_mode": {
    "name": "ipython",
    "version": 3
   },
   "file_extension": ".py",
   "mimetype": "text/x-python",
   "name": "python",
   "nbconvert_exporter": "python",
   "pygments_lexer": "ipython3",
   "version": "3.7.6"
  }
 },
 "nbformat": 4,
 "nbformat_minor": 4
}
